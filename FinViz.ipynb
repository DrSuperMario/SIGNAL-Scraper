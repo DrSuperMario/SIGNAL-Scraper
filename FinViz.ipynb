{
 "cells": [
  {
   "cell_type": "code",
   "execution_count": 1,
   "metadata": {},
   "outputs": [],
   "source": [
    "import requests\n",
    "import pandas as pd\n",
    "from bs4 import BeautifulSoup as soup\n",
    "import re\n",
    "from connection.var import *"
   ]
  },
  {
   "cell_type": "code",
   "execution_count": 2,
   "metadata": {},
   "outputs": [],
   "source": [
    "req = requests.get('https://finviz.com/news.ashx', headers={'User-Agent':HEADERS['agent_smartphone']})"
   ]
  },
  {
   "cell_type": "code",
   "execution_count": 3,
   "metadata": {},
   "outputs": [],
   "source": [
    "data = req.content"
   ]
  },
  {
   "cell_type": "code",
   "execution_count": null,
   "metadata": {},
   "outputs": [],
   "source": [
    "HEADERS={\n",
    "        'agent_desktop': \n",
    "        'Mozilla/5.0 (Windows NT 10.0; Win64; x64) '\\\n",
    "        'AppleWebKit/537.36 (KHTML, like Gecko) Chrome/80.0.3987.149 '\\\n",
    "        'Safari/537.36',\n",
    "        'agent_smartphone':\n",
    "        'Mozilla/5.0 (Linux; Android 9; SM-G960F '\\\n",
    "        'Build/PPR1.180610.011; wv) AppleWebKit/537.36 (KHTML, like Gecko) '\\\n",
    "        'Version/4.0 Chrome/74.0.3729.157 Mobile Safari/537.36',\n",
    "        'agent_old_smartphone':\n",
    "        'Mozilla/5.0 (Linux; Android 9; SM-G960F '\\\n",
    "        'Build/PPR1.180610.011; wv) AppleWebKit/537.36 (KHTML, like Gecko) '\\\n",
    "        'Version/4.0 Chrome/74.0.3729.157 Mobile Safari/537.36'\n",
    "}"
   ]
  },
  {
   "cell_type": "code",
   "execution_count": null,
   "metadata": {},
   "outputs": [],
   "source": [
    "newsArticles = soup(data,parser)\n",
    "scrapedNewsArticles = []"
   ]
  },
  {
   "cell_type": "code",
   "execution_count": null,
   "metadata": {},
   "outputs": [],
   "source": [
    "for x in newsArticles.find_all('tr',{'class':'nn'})[1:90]:\n",
    "    print(x.get_text())\n"
   ]
  },
  {
   "cell_type": "code",
   "execution_count": null,
   "metadata": {},
   "outputs": [],
   "source": [
    "for y in newsArticles.find_all('a', {'class':'nn-tab-link'})[2:91]:\n",
    "    print(y.get('href'))"
   ]
  },
  {
   "cell_type": "code",
   "execution_count": null,
   "metadata": {},
   "outputs": [],
   "source": [
    "for x in newsArticles.find_all('td',{'class':'nn-date'})[1:90]:\n",
    "    print(x.get_text())"
   ]
  },
  {
   "cell_type": "code",
   "execution_count": null,
   "metadata": {},
   "outputs": [],
   "source": [
    "df = pd.DataFrame(index=[x.get_text() for x in newsArticles.find_all('td',{'class':'nn-date'})[1:90]],\n",
    "                 columns=['headLine','www'])"
   ]
  },
  {
   "cell_type": "code",
   "execution_count": null,
   "metadata": {},
   "outputs": [],
   "source": [
    "df['headLine'] = [x.get_text() for x in newsArticles.find_all('a',{'class':'nn-tab-link'})[1:90]]"
   ]
  },
  {
   "cell_type": "code",
   "execution_count": null,
   "metadata": {},
   "outputs": [],
   "source": [
    "df['www'] = [x.get('href') for x in newsArticles.find_all('a', {'class':'nn-tab-link'})[1:90]]"
   ]
  },
  {
   "cell_type": "code",
   "execution_count": null,
   "metadata": {},
   "outputs": [],
   "source": [
    "df.to_html('finzi.html')"
   ]
  },
  {
   "cell_type": "code",
   "execution_count": 2,
   "metadata": {},
   "outputs": [],
   "source": [
    "from modules.dataCollector import Connect\n",
    "#from connection.var import *"
   ]
  },
  {
   "cell_type": "code",
   "execution_count": null,
   "metadata": {},
   "outputs": [],
   "source": []
  },
  {
   "cell_type": "code",
   "execution_count": 3,
   "metadata": {},
   "outputs": [],
   "source": [
    "dataCrypto = Connect.makeConnection(url=URL[1], header=HEADERS['agent_desktop'])"
   ]
  },
  {
   "cell_type": "code",
   "execution_count": 4,
   "metadata": {},
   "outputs": [],
   "source": [
    "makeSoup = soup(dataCrypto, PARSER)"
   ]
  },
  {
   "cell_type": "code",
   "execution_count": 6,
   "metadata": {},
   "outputs": [],
   "source": [
    "names = [x.get_text() for x in makeSoup.find_all('p', {'class':\"Text-sc-1eb5slv-0 iTmTiC\"})]"
   ]
  },
  {
   "cell_type": "code",
   "execution_count": 5,
   "metadata": {},
   "outputs": [],
   "source": [
    "def getCoinListNames():\n",
    "    names = [x.get_text() for x in makeSoup.find_all('p', {'class':\"Text-sc-1eb5slv-0 iTmTiC\"})]\n",
    "    fixedCoinList = [l.lower().replace(\" \",\"-\").replace(\".\",\"-\") for l in names]\n",
    "    return fixedCoinList"
   ]
  },
  {
   "cell_type": "code",
   "execution_count": 6,
   "metadata": {
    "collapsed": true
   },
   "outputs": [
    {
     "ename": "NameError",
     "evalue": "name 'names' is not defined",
     "output_type": "error",
     "traceback": [
      "\u001b[0;31m---------------------------------------------------------------------------\u001b[0m",
      "\u001b[0;31mNameError\u001b[0m                                 Traceback (most recent call last)",
      "\u001b[0;32m<ipython-input-6-445e66d5e5ee>\u001b[0m in \u001b[0;36m<module>\u001b[0;34m\u001b[0m\n\u001b[0;32m----> 1\u001b[0;31m \u001b[0mfixedCoinList\u001b[0m \u001b[0;34m=\u001b[0m \u001b[0;34m[\u001b[0m\u001b[0ml\u001b[0m\u001b[0;34m.\u001b[0m\u001b[0mlower\u001b[0m\u001b[0;34m(\u001b[0m\u001b[0;34m)\u001b[0m\u001b[0;34m.\u001b[0m\u001b[0mreplace\u001b[0m\u001b[0;34m(\u001b[0m\u001b[0;34m\" \"\u001b[0m\u001b[0;34m,\u001b[0m\u001b[0;34m\"-\"\u001b[0m\u001b[0;34m)\u001b[0m\u001b[0;34m.\u001b[0m\u001b[0mreplace\u001b[0m\u001b[0;34m(\u001b[0m\u001b[0;34m\".\"\u001b[0m\u001b[0;34m,\u001b[0m\u001b[0;34m\"-\"\u001b[0m\u001b[0;34m)\u001b[0m \u001b[0;32mfor\u001b[0m \u001b[0ml\u001b[0m \u001b[0;32min\u001b[0m \u001b[0mnames\u001b[0m\u001b[0;34m]\u001b[0m\u001b[0;34m\u001b[0m\u001b[0;34m\u001b[0m\u001b[0m\n\u001b[0m",
      "\u001b[0;31mNameError\u001b[0m: name 'names' is not defined"
     ]
    }
   ],
   "source": [
    "fixedCoinList = [l.lower().replace(\" \",\"-\").replace(\".\",\"-\") for l in names]"
   ]
  },
  {
   "cell_type": "code",
   "execution_count": null,
   "metadata": {},
   "outputs": [],
   "source": [
    "prices = [makeSoup.find('a',{'href':f\"https://www.coingecko.com/en/coins/{x}/usd\"}).get_text() for x in fixedCoinList]"
   ]
  },
  {
   "cell_type": "code",
   "execution_count": null,
   "metadata": {},
   "outputs": [],
   "source": [
    "print(makeSoup.find('a',{'href':f\"https://www.coingecko.com/en/coins/bitcoin/usd\"}))"
   ]
  },
  {
   "cell_type": "code",
   "execution_count": 18,
   "metadata": {},
   "outputs": [],
   "source": [
    "newName = getCoinListNames()"
   ]
  },
  {
   "cell_type": "code",
   "execution_count": 23,
   "metadata": {},
   "outputs": [
    {
     "name": "stdout",
     "output_type": "stream",
     "text": [
      "1.reallen 0.listlen  <a class=\"cmc-link\" href=\"/currencies/bitcoin/markets/\">$13,337.14</a>\n",
      "2.reallen 1.listlen  <a class=\"cmc-link\" href=\"/currencies/ethereum/markets/\">$387.77</a>\n",
      "3.reallen 2.listlen  <a class=\"cmc-link\" href=\"/currencies/tether/markets/\">$1.00</a>\n",
      "4.reallen 3.listlen  <a class=\"cmc-link\" href=\"/currencies/xrp/markets/\">$0.248223</a>\n",
      "5.reallen 4.listlen  <a class=\"cmc-link\" href=\"/currencies/bitcoin-cash/markets/\">$271.67</a>\n",
      "6.reallen 5.listlen  <a class=\"cmc-link\" href=\"/currencies/chainlink/markets/\">$11.47</a>\n",
      "7.reallen 6.listlen  <a class=\"cmc-link\" href=\"/currencies/binance-coin/markets/\">$30.68</a>\n",
      "8.reallen 7.listlen  <a class=\"cmc-link\" href=\"/currencies/litecoin/markets/\">$57.07</a>\n",
      "9.reallen 8.listlen  None\n",
      "10.reallen 9.listlen  <a class=\"cmc-link\" href=\"/currencies/bitcoin-sv/markets/\">$172.56</a>\n",
      "11.reallen 10.listlen  <a class=\"cmc-link\" href=\"/currencies/cardano/markets/\">$0.097647</a>\n",
      "12.reallen 11.listlen  <a class=\"cmc-link\" href=\"/currencies/usd-coin/markets/\">$1.00</a>\n",
      "13.reallen 12.listlen  <a class=\"cmc-link\" href=\"/currencies/eos/markets/\">$2.64</a>\n",
      "14.reallen 13.listlen  <a class=\"cmc-link\" href=\"/currencies/monero/markets/\">$130.27</a>\n",
      "15.reallen 14.listlen  <a class=\"cmc-link\" href=\"/currencies/crypto-com-coin/markets/\">$0.093073</a>\n",
      "16.reallen 15.listlen  <a class=\"cmc-link\" href=\"/currencies/tron/markets/\">$0.026734</a>\n",
      "17.reallen 16.listlen  <a class=\"cmc-link\" href=\"/currencies/stellar/markets/\">$0.080439</a>\n",
      "18.reallen 17.listlen  <a class=\"cmc-link\" href=\"/currencies/wrapped-bitcoin/markets/\">$13,310.93</a>\n",
      "19.reallen 18.listlen  <a class=\"cmc-link\" href=\"/currencies/tezos/markets/\">$2.01</a>\n",
      "20.reallen 19.listlen  <a class=\"cmc-link\" href=\"/currencies/unus-sed-leo/markets/\">$1.27</a>\n",
      "21.reallen 20.listlen  <a class=\"cmc-link\" href=\"/currencies/neo/markets/\">$16.37</a>\n",
      "22.reallen 21.listlen  <a class=\"cmc-link\" href=\"/currencies/cosmos/markets/\">$4.95</a>\n",
      "23.reallen 22.listlen  None\n",
      "24.reallen 23.listlen  <a class=\"cmc-link\" href=\"/currencies/huobi-token/markets/\">$4.23</a>\n",
      "25.reallen 24.listlen  <a class=\"cmc-link\" href=\"/currencies/nem/markets/\">$0.089071</a>\n",
      "26.reallen 25.listlen  <a class=\"cmc-link\" href=\"/currencies/filecoin/markets/\">$33.02</a>\n",
      "27.reallen 26.listlen  <a class=\"cmc-link\" href=\"/currencies/iota/markets/\">$0.268738</a>\n",
      "28.reallen 27.listlen  <a class=\"cmc-link\" href=\"/currencies/binance-usd/markets/\">$1.00</a>\n",
      "29.reallen 28.listlen  <a class=\"cmc-link\" href=\"/currencies/vechain/markets/\">$0.011009</a>\n",
      "30.reallen 29.listlen  <a class=\"cmc-link\" href=\"/currencies/dash/markets/\">$68.28</a>\n",
      "31.reallen 30.listlen  <a class=\"cmc-link\" href=\"/currencies/ethereum-classic/markets/\">$5.42</a>\n",
      "32.reallen 31.listlen  <a class=\"cmc-link\" href=\"/currencies/theta/markets/\">$0.618537</a>\n",
      "33.reallen 32.listlen  <a class=\"cmc-link\" href=\"/currencies/zcash/markets/\">$59.04</a>\n",
      "34.reallen 33.listlen  <a class=\"cmc-link\" href=\"/currencies/uniswap/markets/\">$2.68</a>\n",
      "35.reallen 34.listlen  <a class=\"cmc-link\" href=\"/currencies/maker/markets/\">$550.30</a>\n",
      "36.reallen 35.listlen  <a class=\"cmc-link\" href=\"/currencies/compound/markets/\">$114.74</a>\n",
      "37.reallen 36.listlen  None\n",
      "38.reallen 37.listlen  <a class=\"cmc-link\" href=\"/currencies/uma/markets/\">$7.19</a>\n",
      "39.reallen 38.listlen  <a class=\"cmc-link\" href=\"/currencies/yearn-finance/markets/\">$12,975.89</a>\n",
      "40.reallen 39.listlen  <a class=\"cmc-link\" href=\"/currencies/ontology/markets/\">$0.482422</a>\n",
      "41.reallen 40.listlen  <a class=\"cmc-link\" href=\"/currencies/ftx-token/markets/\">$3.83</a>\n",
      "42.reallen 41.listlen  <a class=\"cmc-link\" href=\"/currencies/aave/markets/\">$33.01</a>\n",
      "43.reallen 42.listlen  <a class=\"cmc-link\" href=\"/currencies/synthetix-network-token/markets/\">$3.37</a>\n",
      "44.reallen 43.listlen  <a class=\"cmc-link\" href=\"/currencies/dogecoin/markets/\">$0.002621</a>\n",
      "45.reallen 44.listlen  <a class=\"cmc-link\" href=\"/currencies/waves/markets/\">$3.02</a>\n",
      "46.reallen 45.listlen  <a class=\"cmc-link\" href=\"/currencies/celsius/markets/\">$1.30</a>\n",
      "47.reallen 46.listlen  <a class=\"cmc-link\" href=\"/currencies/bittorrent/markets/\">$0.000310</a>\n",
      "48.reallen 47.listlen  <a class=\"cmc-link\" href=\"/currencies/algorand/markets/\">$0.278002</a>\n",
      "49.reallen 48.listlen  <a class=\"cmc-link\" href=\"/currencies/basic-attention-token/markets/\">$0.201185</a>\n",
      "50.reallen 49.listlen  <a class=\"cmc-link\" href=\"/currencies/okb/markets/\">$4.49</a>\n",
      "51.reallen 50.listlen  <a class=\"cmc-link\" href=\"/currencies/trueusd/markets/\">$1.00</a>\n",
      "52.reallen 51.listlen  <a class=\"cmc-link\" href=\"/currencies/kusama/markets/\">$31.09</a>\n",
      "53.reallen 52.listlen  <a class=\"cmc-link\" href=\"/currencies/abbc-coin/markets/\">$0.377146</a>\n",
      "54.reallen 53.listlen  <a class=\"cmc-link\" href=\"/currencies/digibyte/markets/\">$0.018861</a>\n",
      "55.reallen 54.listlen  <a class=\"cmc-link\" href=\"/currencies/0x/markets/\">$0.344391</a>\n",
      "56.reallen 55.listlen  <a class=\"cmc-link\" href=\"/currencies/husd/markets/\">$0.999936</a>\n",
      "57.reallen 56.listlen  <a class=\"cmc-link\" href=\"/currencies/ren/markets/\">$0.283353</a>\n",
      "58.reallen 57.listlen  <a class=\"cmc-link\" href=\"/currencies/paxos-standard/markets/\">$0.996319</a>\n",
      "59.reallen 58.listlen  <a class=\"cmc-link\" href=\"/currencies/celo/markets/\">$1.81</a>\n",
      "60.reallen 59.listlen  <a class=\"cmc-link\" href=\"/currencies/hedgetrade/markets/\">$0.641319</a>\n",
      "61.reallen 60.listlen  <a class=\"cmc-link\" href=\"/currencies/qtum/markets/\">$2.08</a>\n",
      "62.reallen 61.listlen  <a class=\"cmc-link\" href=\"/currencies/ocean-protocol/markets/\">$0.496757</a>\n",
      "63.reallen 62.listlen  <a class=\"cmc-link\" href=\"/currencies/icon/markets/\">$0.343703</a>\n",
      "64.reallen 63.listlen  <a class=\"cmc-link\" href=\"/currencies/zilliqa/markets/\">$0.017743</a>\n",
      "65.reallen 64.listlen  <a class=\"cmc-link\" href=\"/currencies/energy-web-token/markets/\">$6.19</a>\n",
      "66.reallen 65.listlen  <a class=\"cmc-link\" href=\"/currencies/hedera-hashgraph/markets/\">$0.030512</a>\n",
      "67.reallen 66.listlen  <a class=\"cmc-link\" href=\"/currencies/kyber-network/markets/\">$0.851171</a>\n",
      "68.reallen 67.listlen  <a class=\"cmc-link\" href=\"/currencies/quant/markets/\">$13.43</a>\n",
      "69.reallen 68.listlen  <a class=\"cmc-link\" href=\"/currencies/loopring/markets/\">$0.139624</a>\n",
      "70.reallen 69.listlen  <a class=\"cmc-link\" href=\"/currencies/decred/markets/\">$11.66</a>\n",
      "71.reallen 70.listlen  <a class=\"cmc-link\" href=\"/currencies/nxm/markets/\">$25.86</a>\n",
      "72.reallen 71.listlen  <a class=\"cmc-link\" href=\"/currencies/augur/markets/\">$12.44</a>\n",
      "73.reallen 72.listlen  <a class=\"cmc-link\" href=\"/currencies/lisk/markets/\">$1.07</a>\n",
      "74.reallen 73.listlen  <a class=\"cmc-link\" href=\"/currencies/bitcoin-gold/markets/\">$7.36</a>\n",
      "75.reallen 74.listlen  <a class=\"cmc-link\" href=\"/currencies/near-protocol/markets/\">$0.714666</a>\n",
      "76.reallen 75.listlen  <a class=\"cmc-link\" href=\"/currencies/aragon/markets/\">$3.15</a>\n",
      "77.reallen 76.listlen  <a class=\"cmc-link\" href=\"/currencies/revain/markets/\">$0.010603</a>\n",
      "78.reallen 77.listlen  <a class=\"cmc-link\" href=\"/currencies/zb-token/markets/\">$0.261451</a>\n",
      "79.reallen 78.listlen  None\n",
      "80.reallen 79.listlen  <a class=\"cmc-link\" href=\"/currencies/reserve-rights/markets/\">$0.012699</a>\n",
      "81.reallen 80.listlen  <a class=\"cmc-link\" href=\"/currencies/cybervein/markets/\">$0.112304</a>\n",
      "82.reallen 81.listlen  <a class=\"cmc-link\" href=\"/currencies/siacoin/markets/\">$0.002544</a>\n",
      "83.reallen 82.listlen  <a class=\"cmc-link\" href=\"/currencies/the-midas-touch-gold/markets/\">$0.018366</a>\n",
      "84.reallen 83.listlen  <a class=\"cmc-link\" href=\"/currencies/enjin-coin/markets/\">$0.134588</a>\n",
      "85.reallen 84.listlen  None\n",
      "86.reallen 85.listlen  <a class=\"cmc-link\" href=\"/currencies/ampleforth/markets/\">$0.995694</a>\n",
      "87.reallen 86.listlen  <a class=\"cmc-link\" href=\"/currencies/band-protocol/markets/\">$5.14</a>\n",
      "88.reallen 87.listlen  <a class=\"cmc-link\" href=\"/currencies/decentraland/markets/\">$0.069143</a>\n",
      "89.reallen 88.listlen  <a class=\"cmc-link\" href=\"/currencies/nano/markets/\">$0.764159</a>\n",
      "90.reallen 89.listlen  <a class=\"cmc-link\" href=\"/currencies/avalanche/markets/\">$3.97</a>\n",
      "91.reallen 90.listlen  <a class=\"cmc-link\" href=\"/currencies/blockstack/markets/\">$0.145293</a>\n",
      "92.reallen 91.listlen  <a class=\"cmc-link\" href=\"/currencies/velas/markets/\">$0.043017</a>\n",
      "93.reallen 92.listlen  <a class=\"cmc-link\" href=\"/currencies/bitcoin-diamond/markets/\">$0.478995</a>\n",
      "94.reallen 93.listlen  <a class=\"cmc-link\" href=\"/currencies/sushiswap/markets/\">$0.626319</a>\n",
      "95.reallen 94.listlen  <a class=\"cmc-link\" href=\"/currencies/numeraire/markets/\">$25.00</a>\n",
      "96.reallen 95.listlen  <a class=\"cmc-link\" href=\"/currencies/nexo/markets/\">$0.157434</a>\n"
     ]
    },
    {
     "name": "stdout",
     "output_type": "stream",
     "text": [
      "97.reallen 96.listlen  <a class=\"cmc-link\" href=\"/currencies/monacoin/markets/\">$1.31</a>\n",
      "98.reallen 97.listlen  None\n",
      "99.reallen 98.listlen  <a class=\"cmc-link\" href=\"/currencies/nervos-network/markets/\">$0.004038</a>\n",
      "100.reallen 99.listlen  <a class=\"cmc-link\" href=\"/currencies/orchid/markets/\">$0.232768</a>\n"
     ]
    }
   ],
   "source": [
    "fixed = [\"polkadot-new\",\"multi-collateral-dai\",\"omg\",\"terra-luna\",\n",
    "                   \"elrond-egld\",\"golem-network-tokens\"]\n",
    "listlen = -1\n",
    "reallen = 0\n",
    "for p in newName:\n",
    "    listlen += 1\n",
    "    reallen += 1\n",
    "    test = makeSoup.find('a',{'href':f\"/currencies/{p}/markets/\"})\n",
    "    print(f\"{reallen}.reallen {listlen}.listlen  {test}\")\n",
    "    "
   ]
  },
  {
   "cell_type": "code",
   "execution_count": 20,
   "metadata": {},
   "outputs": [],
   "source": [
    "names = getCoinListNames()\n",
    "fixed = [\"polkadot-new\",\"multi-collateral-dai\",\"omg\",\"terra-luna\",\n",
    "                   \"elrond-egld\",\"golem-network-tokens\"]"
   ]
  },
  {
   "cell_type": "code",
   "execution_count": 21,
   "metadata": {},
   "outputs": [
    {
     "name": "stdout",
     "output_type": "stream",
     "text": [
      "replaced polkadot of index 7\n",
      "replaced dai of index 22\n",
      "replaced omg-network of index 37\n",
      "replaced terra of index 80\n",
      "replaced elrond of index 85\n"
     ]
    }
   ],
   "source": [
    "count = -1\n",
    "c = -1\n",
    "for x in names:\n",
    "    count += 1\n",
    "    words = [\"polkadot\",\"dai\",\"omg-network\",\"terra\",\"elrond\",\"golem\"]\n",
    "    for l in words:\n",
    "        search = re.fullmatch(l,x)\n",
    "        if search:\n",
    "            c += 1\n",
    "            print(f\"replaced {search.string} of index {count}\")\n",
    "            names[count] = fixed[c]\n",
    "        \n",
    "            \n",
    "    "
   ]
  },
  {
   "cell_type": "code",
   "execution_count": 22,
   "metadata": {},
   "outputs": [
    {
     "data": {
      "text/plain": [
       "['bitcoin',\n",
       " 'ethereum',\n",
       " 'tether',\n",
       " 'xrp',\n",
       " 'bitcoin-cash',\n",
       " 'chainlink',\n",
       " 'binance-coin',\n",
       " 'polkadot-new',\n",
       " 'litecoin',\n",
       " 'bitcoin-sv',\n",
       " 'cardano',\n",
       " 'usd-coin',\n",
       " 'eos',\n",
       " 'monero',\n",
       " 'tron',\n",
       " 'crypto-com-coin',\n",
       " 'stellar',\n",
       " 'wrapped-bitcoin',\n",
       " 'tezos',\n",
       " 'unus-sed-leo',\n",
       " 'neo',\n",
       " 'cosmos',\n",
       " 'multi-collateral-dai',\n",
       " 'huobi-token',\n",
       " 'nem',\n",
       " 'filecoin',\n",
       " 'iota',\n",
       " 'binance-usd',\n",
       " 'vechain',\n",
       " 'dash',\n",
       " 'theta',\n",
       " 'ethereum-classic',\n",
       " 'zcash',\n",
       " 'uniswap',\n",
       " 'maker',\n",
       " 'safe-haven',\n",
       " 'compound',\n",
       " 'omg',\n",
       " 'uma',\n",
       " 'yearn-finance',\n",
       " 'ontology',\n",
       " 'synthetix-network-token',\n",
       " 'ftx-token',\n",
       " 'aave',\n",
       " 'dogecoin',\n",
       " 'waves',\n",
       " 'bittorrent',\n",
       " 'celsius',\n",
       " 'algorand',\n",
       " 'basic-attention-token',\n",
       " 'okb',\n",
       " 'abbc-coin',\n",
       " 'kusama',\n",
       " 'digibyte',\n",
       " 'trueusd',\n",
       " 'husd',\n",
       " '0x',\n",
       " 'paxos-standard',\n",
       " 'ren',\n",
       " 'celo',\n",
       " 'ocean-protocol',\n",
       " 'hedgetrade',\n",
       " 'qtum',\n",
       " 'icon',\n",
       " 'zilliqa',\n",
       " 'energy-web-token',\n",
       " 'hedera-hashgraph',\n",
       " 'kyber-network',\n",
       " 'loopring',\n",
       " 'quant',\n",
       " 'decred',\n",
       " 'nxm',\n",
       " 'augur',\n",
       " 'lisk',\n",
       " 'bitcoin-gold',\n",
       " 'reserve-rights',\n",
       " 'near-protocol',\n",
       " 'aragon',\n",
       " 'cybervein',\n",
       " 'revain',\n",
       " 'terra-luna',\n",
       " 'zb-token',\n",
       " 'siacoin',\n",
       " 'ampleforth',\n",
       " 'enjin-coin',\n",
       " 'elrond-egld',\n",
       " 'the-midas-touch-gold',\n",
       " 'band-protocol',\n",
       " 'nano',\n",
       " 'decentraland',\n",
       " 'avalanche',\n",
       " 'blockstack',\n",
       " 'nexo',\n",
       " 'velas',\n",
       " 'sushiswap',\n",
       " 'bitcoin-diamond',\n",
       " 'numeraire',\n",
       " 'orchid',\n",
       " 'monacoin',\n",
       " 'nervos-network']"
      ]
     },
     "execution_count": 22,
     "metadata": {},
     "output_type": "execute_result"
    }
   ],
   "source": [
    "names"
   ]
  },
  {
   "cell_type": "code",
   "execution_count": null,
   "metadata": {},
   "outputs": [],
   "source": []
  },
  {
   "cell_type": "code",
   "execution_count": null,
   "metadata": {},
   "outputs": [],
   "source": []
  },
  {
   "cell_type": "code",
   "execution_count": null,
   "metadata": {},
   "outputs": [],
   "source": []
  },
  {
   "cell_type": "code",
   "execution_count": null,
   "metadata": {},
   "outputs": [],
   "source": []
  },
  {
   "cell_type": "code",
   "execution_count": null,
   "metadata": {},
   "outputs": [],
   "source": []
  },
  {
   "cell_type": "code",
   "execution_count": null,
   "metadata": {},
   "outputs": [],
   "source": []
  },
  {
   "cell_type": "code",
   "execution_count": null,
   "metadata": {},
   "outputs": [],
   "source": []
  },
  {
   "cell_type": "code",
   "execution_count": null,
   "metadata": {},
   "outputs": [],
   "source": []
  },
  {
   "cell_type": "code",
   "execution_count": null,
   "metadata": {},
   "outputs": [],
   "source": []
  },
  {
   "cell_type": "code",
   "execution_count": null,
   "metadata": {},
   "outputs": [],
   "source": []
  }
 ],
 "metadata": {
  "kernelspec": {
   "display_name": "Python 3",
   "language": "python",
   "name": "python3"
  },
  "language_info": {
   "codemirror_mode": {
    "name": "ipython",
    "version": 3
   },
   "file_extension": ".py",
   "mimetype": "text/x-python",
   "name": "python",
   "nbconvert_exporter": "python",
   "pygments_lexer": "ipython3",
   "version": "3.8.6"
  }
 },
 "nbformat": 4,
 "nbformat_minor": 4
}
