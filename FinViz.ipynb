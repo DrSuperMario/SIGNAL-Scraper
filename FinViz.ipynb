{
 "cells": [
  {
   "cell_type": "code",
   "execution_count": 1,
   "metadata": {},
   "outputs": [],
   "source": [
    "import requests\n",
    "import pandas as pd\n",
    "from bs4 import BeautifulSoup as soup\n",
    "import re\n",
    "from connection.var import *"
   ]
  },
  {
   "cell_type": "code",
   "execution_count": null,
   "metadata": {},
   "outputs": [],
   "source": [
    "req = requests.get('https://finviz.com/news.ashx', headers={'User-Agent':HEADERS['agent_smartphone']})"
   ]
  },
  {
   "cell_type": "code",
   "execution_count": null,
   "metadata": {},
   "outputs": [],
   "source": [
    "data = req.content"
   ]
  },
  {
   "cell_type": "code",
   "execution_count": null,
   "metadata": {},
   "outputs": [],
   "source": [
    "HEADERS={\n",
    "        'agent_desktop': \n",
    "        'Mozilla/5.0 (Windows NT 10.0; Win64; x64) '\\\n",
    "        'AppleWebKit/537.36 (KHTML, like Gecko) Chrome/80.0.3987.149 '\\\n",
    "        'Safari/537.36',\n",
    "        'agent_smartphone':\n",
    "        'Mozilla/5.0 (Linux; Android 9; SM-G960F '\\\n",
    "        'Build/PPR1.180610.011; wv) AppleWebKit/537.36 (KHTML, like Gecko) '\\\n",
    "        'Version/4.0 Chrome/74.0.3729.157 Mobile Safari/537.36',\n",
    "        'agent_old_smartphone':\n",
    "        'Mozilla/5.0 (Linux; Android 9; SM-G960F '\\\n",
    "        'Build/PPR1.180610.011; wv) AppleWebKit/537.36 (KHTML, like Gecko) '\\\n",
    "        'Version/4.0 Chrome/74.0.3729.157 Mobile Safari/537.36'\n",
    "}"
   ]
  },
  {
   "cell_type": "code",
   "execution_count": null,
   "metadata": {},
   "outputs": [],
   "source": [
    "newsArticles = soup(data,parser)\n",
    "scrapedNewsArticles = []"
   ]
  },
  {
   "cell_type": "code",
   "execution_count": null,
   "metadata": {},
   "outputs": [],
   "source": [
    "for x in newsArticles.find_all('tr',{'class':'nn'})[1:90]:\n",
    "    print(x.get_text())\n"
   ]
  },
  {
   "cell_type": "code",
   "execution_count": null,
   "metadata": {},
   "outputs": [],
   "source": [
    "for y in newsArticles.find_all('a', {'class':'nn-tab-link'})[2:91]:\n",
    "    print(y.get('href'))"
   ]
  },
  {
   "cell_type": "code",
   "execution_count": null,
   "metadata": {},
   "outputs": [],
   "source": [
    "for x in newsArticles.find_all('td',{'class':'nn-date'})[1:90]:\n",
    "    print(x.get_text())"
   ]
  },
  {
   "cell_type": "code",
   "execution_count": null,
   "metadata": {},
   "outputs": [],
   "source": [
    "df = pd.DataFrame(index=[x.get_text() for x in newsArticles.find_all('td',{'class':'nn-date'})[1:90]],\n",
    "                 columns=['headLine','www'])"
   ]
  },
  {
   "cell_type": "code",
   "execution_count": null,
   "metadata": {},
   "outputs": [],
   "source": [
    "df['headLine'] = [x.get_text() for x in newsArticles.find_all('a',{'class':'nn-tab-link'})[1:90]]"
   ]
  },
  {
   "cell_type": "code",
   "execution_count": null,
   "metadata": {},
   "outputs": [],
   "source": [
    "df['www'] = [x.get('href') for x in newsArticles.find_all('a', {'class':'nn-tab-link'})[1:90]]"
   ]
  },
  {
   "cell_type": "code",
   "execution_count": null,
   "metadata": {},
   "outputs": [],
   "source": [
    "df.to_html('finzi.html')"
   ]
  },
  {
   "cell_type": "code",
   "execution_count": 2,
   "metadata": {},
   "outputs": [],
   "source": [
    "from modules.dataCollector import Connect\n",
    "#from connection.var import *"
   ]
  },
  {
   "cell_type": "code",
   "execution_count": null,
   "metadata": {},
   "outputs": [],
   "source": []
  },
  {
   "cell_type": "code",
   "execution_count": 3,
   "metadata": {},
   "outputs": [],
   "source": [
    "dataCrypto = Connect.makeConnection(url=URL[1], header=HEADERS['agent_desktop'])"
   ]
  },
  {
   "cell_type": "code",
   "execution_count": 4,
   "metadata": {},
   "outputs": [],
   "source": [
    "makeSoup = soup(dataCrypto, PARSER)"
   ]
  },
  {
   "cell_type": "code",
   "execution_count": null,
   "metadata": {},
   "outputs": [],
   "source": [
    "names = [x.get_text() for x in makeSoup.find_all('p', {'class':\"Text-sc-1eb5slv-0 iTmTiC\"})]"
   ]
  },
  {
   "cell_type": "code",
   "execution_count": null,
   "metadata": {},
   "outputs": [],
   "source": []
  },
  {
   "cell_type": "code",
   "execution_count": null,
   "metadata": {},
   "outputs": [],
   "source": [
    "names"
   ]
  },
  {
   "cell_type": "code",
   "execution_count": 5,
   "metadata": {},
   "outputs": [],
   "source": [
    "def getCoinListNames():\n",
    "    names = [x.get_text() for x in makeSoup.find_all('p', {'class':\"Text-sc-1eb5slv-0 iTmTiC\"})]\n",
    "    fixedCoinList = [l.lower().replace(\" \",\"-\").replace(\".\",\"-\") for l in names]\n",
    "    return fixedCoinList"
   ]
  },
  {
   "cell_type": "code",
   "execution_count": null,
   "metadata": {},
   "outputs": [],
   "source": [
    "fixedCoinList = [l.lower().replace(\" \",\"-\").replace(\".\",\"-\") for l in names]"
   ]
  },
  {
   "cell_type": "code",
   "execution_count": null,
   "metadata": {},
   "outputs": [],
   "source": [
    "prices = [makeSoup.find('a',{'href':f\"https://www.coingecko.com/en/coins/{x}/usd\"}).get_text() for x in fixedCoinList]"
   ]
  },
  {
   "cell_type": "code",
   "execution_count": null,
   "metadata": {},
   "outputs": [],
   "source": [
    "print(makeSoup.find('a',{'href':f\"https://www.coingecko.com/en/coins/bitcoin/usd\"}))"
   ]
  },
  {
   "cell_type": "code",
   "execution_count": null,
   "metadata": {},
   "outputs": [],
   "source": [
    "newName = getCoinListNames()"
   ]
  },
  {
   "cell_type": "code",
   "execution_count": null,
   "metadata": {},
   "outputs": [],
   "source": [
    "fixed = [\"polkadot-new\",\"multi-collateral-dai\",\"omg\",\"terra-luna\",\n",
    "                   \"elrond-egld\",\"golem-network-tokens\"]\n",
    "listlen = -1\n",
    "reallen = 0\n",
    "for p in newName:\n",
    "    listlen += 1\n",
    "    reallen += 1\n",
    "    test = makeSoup.find('a',{'href':f\"/currencies/{p}/markets/\"})\n",
    "    print(f\"{reallen}.reallen {listlen}.listlen  {test}\")\n",
    "    "
   ]
  },
  {
   "cell_type": "code",
   "execution_count": 6,
   "metadata": {},
   "outputs": [],
   "source": [
    "names = getCoinListNames()\n",
    "fixed = [\"polkadot-new\",\"multi-collateral-dai\",\"omg\",\"terra-luna\",\n",
    "                   \"elrond-egld\",\"golem-network-tokens\",\"synthetix-network-token\"]"
   ]
  },
  {
   "cell_type": "code",
   "execution_count": 7,
   "metadata": {},
   "outputs": [
    {
     "name": "stdout",
     "output_type": "stream",
     "text": [
      "replaced polkadot of index 8\n"
     ]
    }
   ],
   "source": [
    "count = -1\n",
    "c = -1\n",
    "for x in names:\n",
    "    count += 1\n",
    "    words = [\"polkadot\",\"dai\",\"omg-network\",\"terra\",\"elrond\",\"golem\",\"synthetix\"]\n",
    "    for l in words:\n",
    "        search = re.fullmatch(l,x)\n",
    "        if search:\n",
    "            c += 1\n",
    "            print(f\"replaced {search.string} of index {count}\")\n",
    "            names[count] = fixed[c]\n",
    "        \n",
    "            \n",
    "    "
   ]
  },
  {
   "cell_type": "code",
   "execution_count": 9,
   "metadata": {},
   "outputs": [
    {
     "data": {
      "text/plain": [
       "['bitcoin',\n",
       " 'ethereum',\n",
       " 'tether',\n",
       " 'xrp',\n",
       " 'chainlink',\n",
       " 'bitcoin-cash',\n",
       " 'litecoin',\n",
       " 'binance-coin',\n",
       " 'polkadot-new',\n",
       " 'cardano']"
      ]
     },
     "execution_count": 9,
     "metadata": {},
     "output_type": "execute_result"
    }
   ],
   "source": [
    "names"
   ]
  },
  {
   "cell_type": "code",
   "execution_count": 8,
   "metadata": {},
   "outputs": [
    {
     "name": "stdout",
     "output_type": "stream",
     "text": [
      "1.reallen 0.listlen  <a class=\"cmc-link\" href=\"/currencies/bitcoin/markets/\">$16,242.14</a>\n",
      "2.reallen 1.listlen  <a class=\"cmc-link\" href=\"/currencies/ethereum/markets/\">$468.60</a>\n",
      "3.reallen 2.listlen  <a class=\"cmc-link\" href=\"/currencies/tether/markets/\">$1.00</a>\n",
      "4.reallen 3.listlen  <a class=\"cmc-link\" href=\"/currencies/xrp/markets/\">$0.259296</a>\n",
      "5.reallen 4.listlen  <a class=\"cmc-link\" href=\"/currencies/chainlink/markets/\">$12.85</a>\n",
      "6.reallen 5.listlen  <a class=\"cmc-link\" href=\"/currencies/bitcoin-cash/markets/\">$256.98</a>\n",
      "7.reallen 6.listlen  <a class=\"cmc-link\" href=\"/currencies/litecoin/markets/\">$65.50</a>\n",
      "8.reallen 7.listlen  <a class=\"cmc-link\" href=\"/currencies/binance-coin/markets/\">$28.35</a>\n",
      "9.reallen 8.listlen  <a class=\"cmc-link\" href=\"/currencies/polkadot-new/markets/\">$4.48</a>\n",
      "10.reallen 9.listlen  <a class=\"cmc-link\" href=\"/currencies/cardano/markets/\">$0.107273</a>\n"
     ]
    }
   ],
   "source": [
    "listlen = -1\n",
    "reallen = 0\n",
    "for p in names:\n",
    "    listlen += 1\n",
    "    reallen += 1\n",
    "    test = makeSoup.find('a',{'href':f\"/currencies/{p}/markets/\"})\n",
    "    print(f\"{reallen}.reallen {listlen}.listlen  {test}\")"
   ]
  },
  {
   "cell_type": "code",
   "execution_count": null,
   "metadata": {},
   "outputs": [],
   "source": [
    "import requests\n",
    "import pandas as pd\n",
    "from bs4 import BeautifulSoup as soup\n",
    "import re\n",
    "from connection.var import *\n",
    "\n",
    "from modules.dataCollector import Connect\n",
    "#from connection.var import *\n"
   ]
  },
  {
   "cell_type": "code",
   "execution_count": null,
   "metadata": {},
   "outputs": [],
   "source": [
    "newName"
   ]
  },
  {
   "cell_type": "code",
   "execution_count": null,
   "metadata": {},
   "outputs": [],
   "source": [
    "\n",
    "dataForex = Connect.makeConnection(url=URL[6], header=HEADERS['agent_desktop'])\n",
    "makeSoup = soup(dataForex, PARSER)"
   ]
  },
  {
   "cell_type": "code",
   "execution_count": null,
   "metadata": {},
   "outputs": [],
   "source": [
    "volume24 = [x.get_text().replace(\"\\n\",\"\").replace(\"        \",\"\") for x in makeSoup.find_all('td',{'class':'views-field views-field-field-crypto-volume views-align-right hidden-xs'})]\n",
    "    circulation = [x.get_text().replace(\"\\n\",\"\").replace(\"        \",\"\") for x in makeSoup.find_all('td',{'class':'views-field views-field-field-crypto-circulating-supply views-align-right'})]\n",
    "    price = [x.get_text().replace(\"\\n\",\"\").replace(\"        \",\"\") for x in makeSoup.find_all('td',{'class':'views-field views-field-field-crypto-price views-align-right'})]\n",
    "marketCap = [x.get_text().replace(\"\\n\",\"\").replace(\"        \",\"\") for x in makeSoup.find_all('td',{'class':'views-field views-field-field-market-cap views-align-right hidden-xs'})]\n",
    "names = [x.get_text().replace(\"\\n\",\"\").replace(\"\\xa0\",\"\") for x in makeSoup.find_all('td',{'class':'views-field views-field-field-crypto-proper-name'})]"
   ]
  },
  {
   "cell_type": "code",
   "execution_count": null,
   "metadata": {},
   "outputs": [],
   "source": [
    "len(volume24)"
   ]
  },
  {
   "cell_type": "code",
   "execution_count": null,
   "metadata": {},
   "outputs": [],
   "source": []
  },
  {
   "cell_type": "code",
   "execution_count": null,
   "metadata": {},
   "outputs": [],
   "source": [
    "names = []\n",
    "longNames = []\n",
    "percentChange = []\n",
    "high = []\n",
    "bid = []\n",
    "low = []\n",
    "opend = []\n",
    "\n",
    "for c in range(0,18):\n",
    "    c += 1\n",
    "    names.append(makeSoup.find('td', {\"id\":f\"0_{c}\"}).get_text().replace(\"\\n\",\"\").replace(\" \",\"\"))\n",
    "    longNames.append(makeSoup.find('td', {\"id\":f\"1_{c}\"}).get_text().replace(\"\\n\",\"\").replace(\"\\t\",\"\"))\n",
    "    percentChange.append(makeSoup.find('td', {\"id\":f\"2_{c}\"}).get_text())\n",
    "    high.append(makeSoup.find('td', {\"id\":f\"3_{c}\"}).get_text())\n",
    "    bid.append(makeSoup.find('td', {\"id\":f\"4_{c}\"}).get_text())\n",
    "    low.append(makeSoup.find('td', {\"id\":f\"5_{c}\"}).get_text())\n",
    "    opend.append(makeSoup.find('td', {\"id\":f\"6_{c}\"}).get_text())\n",
    "    \n",
    "    "
   ]
  },
  {
   "cell_type": "code",
   "execution_count": null,
   "metadata": {},
   "outputs": [],
   "source": [
    "opend"
   ]
  },
  {
   "cell_type": "code",
   "execution_count": null,
   "metadata": {},
   "outputs": [],
   "source": [
    "index=[makeSoup.find('td', {\"id\":f\"0_{x+1}\"}).get_text().replace(\"\\n\",\"\").replace(\" \",\"\") for x in range(0,18)]"
   ]
  },
  {
   "cell_type": "code",
   "execution_count": 23,
   "metadata": {},
   "outputs": [],
   "source": [
    "data = Connect.makeConnection('https://www.tradingview.com/markets/futures/quotes-metals/', HEADERS['agent_desktop'])\n",
    "makeSoup = soup(data, PARSER)"
   ]
  },
  {
   "cell_type": "code",
   "execution_count": 12,
   "metadata": {
    "collapsed": true
   },
   "outputs": [
    {
     "name": "stdout",
     "output_type": "stream",
     "text": [
      "Silver Euro\n",
      "Silver\n",
      "Gold Euro\n",
      "Gold\n",
      "Palladium\n",
      "Platinum\n",
      "\n",
      "--- \n",
      "\n",
      "--- \n",
      "\n",
      "--- \n",
      "\n",
      "--- \n",
      "\n",
      "--- \n",
      "\n",
      "--- \n",
      "\n",
      "--- \n",
      "\n",
      "--- \n",
      "\n",
      "--- \n",
      "\n",
      "--- \n",
      "\n",
      "--- \n",
      "\n",
      "--- \n",
      "\n",
      "--- \n",
      "\n",
      "--- \n",
      "\n",
      "--- \n",
      "\n",
      "--- \n",
      "\n",
      "--- \n",
      "\n",
      "--- \n",
      "\n",
      "--- \n",
      "\n",
      "--- \n",
      "\n",
      "--- \n",
      "\n",
      "--- \n",
      "\n",
      "--- \n",
      "\n",
      "--- \n",
      "\n",
      "---\n",
      "\n",
      "\n",
      "---\n",
      "\n",
      "\n",
      "---\n",
      "\n",
      "\n",
      "---\n",
      "\n",
      "\n",
      "---\n",
      "\n",
      "\n",
      "---\n",
      "\n"
     ]
    }
   ],
   "source": [
    "listOftitles = ['name','open','max','min','price','change']\n",
    "df = pd.DataFrame(columns=listOftitles)\n",
    "for x in listOftitles:\n",
    "    for y in makeSoup.find_all('td',{'class':x}):\n",
    "        print(y.get_text())\n",
    "    "
   ]
  },
  {
   "cell_type": "code",
   "execution_count": 27,
   "metadata": {},
   "outputs": [],
   "source": [
    "opens = [x.get_text().replace(r\"\\n\\t\\t\\t\\t\\t\\t\\t\\t\",\"\") for x in makeSoup.find_all('span',{'class':'tv-screener__description'})]"
   ]
  },
  {
   "cell_type": "code",
   "execution_count": 28,
   "metadata": {},
   "outputs": [
    {
     "data": {
      "text/plain": [
       "['\\n\\t\\t\\t\\t\\t\\t\\t\\tGold Futures',\n",
       " '\\n\\t\\t\\t\\t\\t\\t\\t\\tCopper Futures',\n",
       " '\\n\\t\\t\\t\\t\\t\\t\\t\\tMICRO GOLD FUTURES (CONTINUOUS: CURRENT CONTRACT IN FRONT)',\n",
       " '\\n\\t\\t\\t\\t\\t\\t\\t\\tPalladium Futures',\n",
       " '\\n\\t\\t\\t\\t\\t\\t\\t\\tPlatinum Futures',\n",
       " '\\n\\t\\t\\t\\t\\t\\t\\t\\tE-mini Copper Futures',\n",
       " '\\n\\t\\t\\t\\t\\t\\t\\t\\tSilver (Mini) Futures',\n",
       " '\\n\\t\\t\\t\\t\\t\\t\\t\\tGold (Mini) Futures',\n",
       " '\\n\\t\\t\\t\\t\\t\\t\\t\\tSilver Futures']"
      ]
     },
     "execution_count": 28,
     "metadata": {},
     "output_type": "execute_result"
    }
   ],
   "source": [
    "opens"
   ]
  },
  {
   "cell_type": "code",
   "execution_count": null,
   "metadata": {},
   "outputs": [],
   "source": []
  },
  {
   "cell_type": "code",
   "execution_count": null,
   "metadata": {},
   "outputs": [],
   "source": []
  },
  {
   "cell_type": "code",
   "execution_count": null,
   "metadata": {},
   "outputs": [],
   "source": []
  },
  {
   "cell_type": "code",
   "execution_count": null,
   "metadata": {},
   "outputs": [],
   "source": []
  }
 ],
 "metadata": {
  "kernelspec": {
   "display_name": "Python 3",
   "language": "python",
   "name": "python3"
  },
  "language_info": {
   "codemirror_mode": {
    "name": "ipython",
    "version": 3
   },
   "file_extension": ".py",
   "mimetype": "text/x-python",
   "name": "python",
   "nbconvert_exporter": "python",
   "pygments_lexer": "ipython3",
   "version": "3.9.0"
  }
 },
 "nbformat": 4,
 "nbformat_minor": 4
}
