{
 "cells": [
  {
   "cell_type": "code",
   "execution_count": 1,
   "metadata": {},
   "outputs": [],
   "source": [
    "import requests as req\n",
    "from datetime import datetime\n",
    "import pandas as pd\n",
    "\n",
    "from bs4 import BeautifulSoup as BS\n",
    "from nltk.sentiment.vader import SentimentIntensityAnalyzer \n",
    "\n",
    "from connection.var import ConnectionVar_forex, ConnectionVar_crypto, agent_desktop, parser, URL"
   ]
  },
  {
   "cell_type": "code",
   "execution_count": 3,
   "metadata": {},
   "outputs": [],
   "source": [
    "crypto_columns = ['DATE','PRICE','PRICE_CAP', 'VOLUME_24','CIRCULATION', 'PERCENT_CHG']\n",
    "data_columns = ['NAME','PRICE','PRICE_CAP', 'VOLUME_24','CIRCULATION', 'PERCENT_CHG']\n",
    "tag_names = 'a'\n",
    "forex_columns = ['DATE','LAST','CHG%','CHG','BID','ASK','HIGH','LOW','RaTING']\n",
    "\n",
    "SIA = SentimentIntensityAnalyzer()\n",
    "\n",
    "def get_html(url, header):\n",
    "    #get data from sources\n",
    "    #url for various sources\n",
    "    connect = req.get(url, header)\n",
    "    data = connect.content\n",
    "    return data\n",
    "\n",
    "def scrape_data_from_web(where, url_id, tag=None, className=None, id_name=None):\n",
    "\n",
    "    date_as = datetime.strftime(datetime.now(), '%m-%d-%Y, %H:%M')\n",
    "    scraped_data = []\n",
    "    \n",
    "    if where == 'crypto':\n",
    "        \n",
    "        conn = get_html(URL[url_id], header=agent_desktop)\n",
    "        soup = BS(conn, parser)\n",
    "        \n",
    "        for k,v in ConnectionVar_crypto.items():\n",
    "            scraped_data.append([x.get_text() for x in soup.find_all(tag, class_=v)])\n",
    "        \n",
    "        df = pd.DataFrame(index=scraped_data[0], columns=crypto_columns)\n",
    "\n",
    "        df['DATE'] = date_as\n",
    "        df['PRICE'] = scraped_data[1]\n",
    "        df['PRICE_CAP'] = scraped_data[2]\n",
    "        df['VOLUME_24'] = scraped_data[3]\n",
    "        df['CIRCULATION'] = scraped_data[4]\n",
    "        df['PERCENT_CHG'] = scraped_data[5]\n",
    "\n",
    "        #df.to_sql(sqlite_table, sqlite_conn, if_exists='append')\n",
    "        return df.head(10)\n",
    "    \n",
    "    elif where == 'forex':\n",
    "        \n",
    "        conn = get_html(URL[url_id], header=agent_desktop)\n",
    "        soup = BS(conn, parser)\n",
    "        \n",
    "        \n",
    "        scraped_data.append(([x.get_text() for x in soup.find_all('a',{'class':ConnectionVar_forex['a']})]))\n",
    "        scraped_data.append([x.get_text() for x in soup.find_all('td',{'class':ConnectionVar_forex['td']})])\n",
    "            \n",
    "        #df = pd.DataFrame(index=scraped_data[0], columns=forex_columns)\n",
    "        #df['DATE'] = date_as\n",
    "        #df['LAST'] = scraped_data[1]\n",
    "        #df['CHG%'] = scraped_data[2]\n",
    "        #df['CHG'] = scraped_data[3]\n",
    "        #df['BID'] = scraped_data[4]\n",
    "        #df['ASK'] = scraped_data[5]\n",
    "        #df['HIGH'] = scraped_data[6]\n",
    "        #df['LOW'] = scraped_data[7]\n",
    "        #df['RaTING'] = scraped_data[8]\n",
    "        print(len(scraped_data[0]))\n",
    "        print(len(scraped_data[1]))\n",
    "        print(scraped_data)\n",
    "        #df.to_sql(sqlite_table, sqlite_conn, if_exists='append')\n",
    "        #return df.head(10)\n",
    "        \n",
    "    elif where == 'news'.lower():\n",
    "        conn = get_html(URL[url_id], header=agent_desktop)\n",
    "        soup = BS(conn, parser)\n",
    "        \n",
    "        scraped_data.append(([x.get_text() for x in soup.find_all(tag,class_=className)]))\n",
    "\n",
    "        return scraped_data\n",
    "        \n"
   ]
  },
  {
   "cell_type": "code",
   "execution_count": 8,
   "metadata": {},
   "outputs": [],
   "source": [
    "newsHeadlines = scrape_data_from_web(where='news', tag='div', className='o-teaser__heading', url_id=3)\n",
    "newsArticles = scrape_data_from_web(where='news', tag='p', className='o-teaser__standfirst', url_id=3)"
   ]
  },
  {
   "cell_type": "code",
   "execution_count": 9,
   "metadata": {},
   "outputs": [],
   "source": [
    "newsHeadlinesPolarity = []\n",
    "\n",
    "for polarityScores in range(len(newsHeadlines[0])):\n",
    "    newsHeadlinesPolarity.append(SIA.polarity_scores(newsHeadlines[0][polarityScores]))   "
   ]
  },
  {
   "cell_type": "code",
   "execution_count": 10,
   "metadata": {},
   "outputs": [],
   "source": [
    "newsDataFrame = pd.DataFrame(newsHeadlinesPolarity, columns=['neg','neu','pos'])"
   ]
  },
  {
   "cell_type": "code",
   "execution_count": 23,
   "metadata": {},
   "outputs": [],
   "source": [
    "newsDataFrame['newsHeadline'] = newsHeadlines[0]\n"
   ]
  },
  {
   "cell_type": "code",
   "execution_count": 28,
   "metadata": {},
   "outputs": [
    {
     "data": {
      "text/plain": [
       "'Business banking hopes to ride wave of new start-ups Premium'"
      ]
     },
     "execution_count": 28,
     "metadata": {},
     "output_type": "execute_result"
    }
   ],
   "source": [
    "cryptoData = scrape_data_from_web(where='crypto')"
   ]
  },
  {
   "cell_type": "code",
   "execution_count": 32,
   "metadata": {},
   "outputs": [],
   "source": [
    "for x in range(len(newsDataFrame)):\n",
    "    reqSend = req.post(\"http://127.0.0.1:5050/postnews/\" + str(x) , data = {\n",
    "        \"newsArticle\":newsDataFrame['newsHeadline'][x],\n",
    "        \"newsPolarityNeg\":newsDataFrame['neg'][x],\n",
    "        \"newsPolarityPos\":newsDataFrame['pos'][x],\n",
    "        \"newsPolarityNeu\":newsDataFrame['neu'][x]\n",
    "\n",
    "    })"
   ]
  }
 ],
 "metadata": {
  "kernelspec": {
   "display_name": "Python 3",
   "language": "python",
   "name": "python3"
  },
  "language_info": {
   "codemirror_mode": {
    "name": "ipython",
    "version": 3
   },
   "file_extension": ".py",
   "mimetype": "text/x-python",
   "name": "python",
   "nbconvert_exporter": "python",
   "pygments_lexer": "ipython3",
   "version": "3.7.6"
  }
 },
 "nbformat": 4,
 "nbformat_minor": 4
}
