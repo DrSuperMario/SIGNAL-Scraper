{
 "cells": [
  {
   "cell_type": "code",
   "execution_count": 1,
   "metadata": {},
   "outputs": [],
   "source": [
    "import requests as req\n",
    "from datetime import datetime\n",
    "import pandas as pd\n",
    "\n",
    "from bs4 import BeautifulSoup as BS\n",
    "from connection.var import ConnectionVar_forex, ConnectionVar_crypto, agent_desktop, parser, URL"
   ]
  },
  {
   "cell_type": "code",
   "execution_count": 14,
   "metadata": {},
   "outputs": [],
   "source": [
    "df_columns = ['DATE','PRICE','PRICE_CAP', 'VOLUME_24','CIRCULATION', 'PERCENT_CHG']\n",
    "data_columns = ['NAME','PRICE','PRICE_CAP', 'VOLUME_24','CIRCULATION', 'PERCENT_CHG']\n",
    "tag_names = 'a'\n",
    "\n",
    "\n",
    "def get_html(url, header):\n",
    "    #get data from sources\n",
    "    #url for various sources\n",
    "    connect = req.get(url, header)\n",
    "    data = connect.content\n",
    "    return data\n",
    "\n",
    "def scrape_data_from_web(where, tag, id_name, url_id):\n",
    "\n",
    "    conn = get_html(URL[url_id], header=agent_desktop)\n",
    "    soup = BS(conn, parser)\n",
    "\n",
    "    date_as = datetime.strftime(datetime.now(), '%m-%d-%Y, %H:%M')\n",
    "    scraped_data = []\n",
    "    \n",
    "    if where == 'crypto':\n",
    "        \n",
    "        for t, n in tag, id_name:\n",
    "            scraped_data.append([x.get_text() for x in soup.find_all(t, class_=ConnectionVar_crypto[n])])\n",
    "    \n",
    "        df = pd.DataFrame(index=scraped_data[0], columns=df_columns)\n",
    "\n",
    "        df['DATE'] = date_as\n",
    "        df['PRICE'] = scraped_data[1]\n",
    "        df['PRICE_CAP'] = scraped_data[2]\n",
    "        df['VOLUME_24'] = scraped_data[3]\n",
    "        df['CIRCULATION'] = scraped_data[4]\n",
    "        df['PERCENT_CHG'] = scraped_data[5]\n",
    "\n",
    "        #df.to_sql(sqlite_table, sqlite_conn, if_exists='append')\n",
    "        return df.head(19)\n",
    "    \n",
    "    elif where == 'forex':\n",
    "        \n",
    "        scraped_data = ([x.get_text() for x in soup.find_all(tag, class_=ConnectionVar_forex[id_name])])\n",
    "\n",
    "        #df.to_sql(sqlite_table, sqlite_conn, if_exists='append')\n",
    "        return scraped_data\n"
   ]
  },
  {
   "cell_type": "code",
   "execution_count": 15,
   "metadata": {},
   "outputs": [
    {
     "data": {
      "text/plain": [
       "[]"
      ]
     },
     "execution_count": 15,
     "metadata": {},
     "output_type": "execute_result"
    }
   ],
   "source": [
    "scrape_data_from_web(where='forex', tag='td', url_id=0, id_name='PRICE')"
   ]
  },
  {
   "cell_type": "code",
   "execution_count": null,
   "metadata": {},
   "outputs": [],
   "source": []
  },
  {
   "cell_type": "code",
   "execution_count": null,
   "metadata": {},
   "outputs": [],
   "source": []
  }
 ],
 "metadata": {
  "kernelspec": {
   "display_name": "Python 3",
   "language": "python",
   "name": "python3"
  },
  "language_info": {
   "codemirror_mode": {
    "name": "ipython",
    "version": 3
   },
   "file_extension": ".py",
   "mimetype": "text/x-python",
   "name": "python",
   "nbconvert_exporter": "python",
   "pygments_lexer": "ipython3",
   "version": "3.7.6"
  }
 },
 "nbformat": 4,
 "nbformat_minor": 4
}
