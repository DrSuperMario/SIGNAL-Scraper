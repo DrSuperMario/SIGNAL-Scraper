{
 "cells": [
  {
   "cell_type": "code",
   "execution_count": 3,
   "metadata": {},
   "outputs": [],
   "source": [
    "import requests as req \n",
    "from bs4 import BeautifulSoup as BS\n",
    "\n",
    "from connection.var import ConnectionVar, agent_desktop, parser, URL"
   ]
  },
  {
   "cell_type": "code",
   "execution_count": 30,
   "metadata": {},
   "outputs": [],
   "source": [
    "header = {'User-Agent': agent_desktop}\n",
    "from datetime import datetime"
   ]
  },
  {
   "cell_type": "code",
   "execution_count": 5,
   "metadata": {},
   "outputs": [],
   "source": [
    "def get_html(url, header):\n",
    "    #get data from sources\n",
    "    #url for various sources\n",
    "    connect = req.get(url, header)\n",
    "    data = connect.content\n",
    "    return data\n",
    "\n",
    "def parse_html(data):\n",
    "    prettify = BS()\n",
    "\n",
    "def save_to_db(data):\n",
    "    #save data from parsed_html\n",
    "    #maybe use CSV at the beginning \n",
    "    pass"
   ]
  },
  {
   "cell_type": "code",
   "execution_count": 6,
   "metadata": {},
   "outputs": [],
   "source": [
    "tekst = get_html(URL[1], header=agent_desktop)"
   ]
  },
  {
   "cell_type": "code",
   "execution_count": 7,
   "metadata": {},
   "outputs": [],
   "source": [
    "soup = BS(tekst, parser=parser)"
   ]
  },
  {
   "cell_type": "code",
   "execution_count": 9,
   "metadata": {},
   "outputs": [],
   "source": []
  },
  {
   "cell_type": "code",
   "execution_count": 10,
   "metadata": {},
   "outputs": [
    {
     "name": "stdout",
     "output_type": "stream",
     "text": [
      "Name: .......................Bitcoin \n",
      "Price: ......................$11,203.70 \n",
      "Price Cap: ..................$206,723,072,734 \n",
      "Volume: .....................$23,668,389,154 \n",
      "Circulation: ................18,451,318 BTC \n",
      "Percent Changed:............-1.11%\n"
     ]
    }
   ],
   "source": [
    "print(f\"Name: {name_tag:.>{30}} \\nPrice: {price_tag:.>{32}} \\nPrice Cap: {pricecap_tag:.>{34}} \\nVolume: {volume24_tag:.>{36}} \\nCirculation: {circulating_tag:.>{30}} \\nPercent Changed:{percent_tag:.>{18}}\")"
   ]
  },
  {
   "cell_type": "code",
   "execution_count": 11,
   "metadata": {},
   "outputs": [],
   "source": [
    "all_name = [x.get_text() for x in soup.find_all('td', class_=ConnectionVar['NAME'])]\n",
    "all_price = [x.get_text() for x in soup.find_all('td',class_=ConnectionVar['PRICE'])]\n",
    "all_pricecap = [x.get_text() for x in soup.find_all('td', class_=ConnectionVar['PRICE'])]\n",
    "all_volume24 = [x.get_text() for x in soup.find_all('td', class_=ConnectionVar['VOLUME_24'])]\n",
    "all_circulation = [x.get_text() for x in soup.find_all('td', class_=ConnectionVar['CIRCULATION'])]\n",
    "all_percent = [x.get_text() for x in soup.find_all('td', class_=ConnectionVar['PERCENT_CHG'])]"
   ]
  },
  {
   "cell_type": "code",
   "execution_count": 16,
   "metadata": {},
   "outputs": [],
   "source": [
    "import pandas as pd"
   ]
  },
  {
   "cell_type": "code",
   "execution_count": 22,
   "metadata": {},
   "outputs": [],
   "source": [
    "df = pd.DataFrame(index=all_name, columns=['PRICE','PRICE_CAP', 'VOLUME24','CIRCULATION', 'PERCENT_chg'])"
   ]
  },
  {
   "cell_type": "code",
   "execution_count": 27,
   "metadata": {},
   "outputs": [],
   "source": [
    "df['PRICE'] = all_price\n",
    "df['PRICE_CAP'] = all_pricecap\n",
    "df['VOLUME24'] = all_volume24\n",
    "df['CIRCULATION'] = all_circulation\n",
    "df['PERCENT_chg'] = all_percent"
   ]
  },
  {
   "cell_type": "code",
   "execution_count": 52,
   "metadata": {},
   "outputs": [],
   "source": [
    "with open(f\"saved/{datetime.strftime(datetime.now(), '%m-%d-%Y')}_CRYPTO.csv\",'w+') as f:\n",
    "    f.write(df.to_csv(index=True))"
   ]
  },
  {
   "cell_type": "code",
   "execution_count": 58,
   "metadata": {},
   "outputs": [],
   "source": [
    "new = pd.read_csv('saved/08-04-2020_CRYPTO.csv', index_col='Unnamed: 0')"
   ]
  },
  {
   "cell_type": "code",
   "execution_count": 59,
   "metadata": {},
   "outputs": [
    {
     "data": {
      "text/html": [
       "<div>\n",
       "<style scoped>\n",
       "    .dataframe tbody tr th:only-of-type {\n",
       "        vertical-align: middle;\n",
       "    }\n",
       "\n",
       "    .dataframe tbody tr th {\n",
       "        vertical-align: top;\n",
       "    }\n",
       "\n",
       "    .dataframe thead th {\n",
       "        text-align: right;\n",
       "    }\n",
       "</style>\n",
       "<table border=\"1\" class=\"dataframe\">\n",
       "  <thead>\n",
       "    <tr style=\"text-align: right;\">\n",
       "      <th></th>\n",
       "      <th>PRICE</th>\n",
       "      <th>PRICE_CAP</th>\n",
       "      <th>VOLUME24</th>\n",
       "      <th>CIRCULATION</th>\n",
       "      <th>PERCENT_chg</th>\n",
       "    </tr>\n",
       "  </thead>\n",
       "  <tbody>\n",
       "    <tr>\n",
       "      <th>Bitcoin</th>\n",
       "      <td>$11,189.62</td>\n",
       "      <td>$11,189.62</td>\n",
       "      <td>$22,342,225,353</td>\n",
       "      <td>18,451,356 BTC</td>\n",
       "      <td>-1.72%</td>\n",
       "    </tr>\n",
       "    <tr>\n",
       "      <th>Ethereum</th>\n",
       "      <td>$387.77</td>\n",
       "      <td>$387.77</td>\n",
       "      <td>$15,006,562,714</td>\n",
       "      <td>112,042,281 ETH</td>\n",
       "      <td>-1.39%</td>\n",
       "    </tr>\n",
       "    <tr>\n",
       "      <th>XRP</th>\n",
       "      <td>$0.299489</td>\n",
       "      <td>$0.299489</td>\n",
       "      <td>$3,035,524,213</td>\n",
       "      <td>44,862,646,997 XRP *</td>\n",
       "      <td>-4.26%</td>\n",
       "    </tr>\n",
       "    <tr>\n",
       "      <th>Tether</th>\n",
       "      <td>$1.00</td>\n",
       "      <td>$1.00</td>\n",
       "      <td>$34,595,154,082</td>\n",
       "      <td>9,998,221,723 USDT *</td>\n",
       "      <td>0.08%</td>\n",
       "    </tr>\n",
       "    <tr>\n",
       "      <th>Bitcoin Cash</th>\n",
       "      <td>$287.10</td>\n",
       "      <td>$287.10</td>\n",
       "      <td>$2,063,254,152</td>\n",
       "      <td>18,480,675 BCH</td>\n",
       "      <td>-3.60%</td>\n",
       "    </tr>\n",
       "  </tbody>\n",
       "</table>\n",
       "</div>"
      ],
      "text/plain": [
       "                   PRICE   PRICE_CAP         VOLUME24           CIRCULATION  \\\n",
       "Bitcoin       $11,189.62  $11,189.62  $22,342,225,353        18,451,356 BTC   \n",
       "Ethereum         $387.77     $387.77  $15,006,562,714       112,042,281 ETH   \n",
       "XRP            $0.299489   $0.299489   $3,035,524,213  44,862,646,997 XRP *   \n",
       "Tether             $1.00       $1.00  $34,595,154,082  9,998,221,723 USDT *   \n",
       "Bitcoin Cash     $287.10     $287.10   $2,063,254,152        18,480,675 BCH   \n",
       "\n",
       "             PERCENT_chg  \n",
       "Bitcoin           -1.72%  \n",
       "Ethereum          -1.39%  \n",
       "XRP               -4.26%  \n",
       "Tether             0.08%  \n",
       "Bitcoin Cash      -3.60%  "
      ]
     },
     "execution_count": 59,
     "metadata": {},
     "output_type": "execute_result"
    }
   ],
   "source": [
    "new.head()"
   ]
  },
  {
   "cell_type": "code",
   "execution_count": null,
   "metadata": {},
   "outputs": [],
   "source": []
  }
 ],
 "metadata": {
  "kernelspec": {
   "display_name": "Python 3",
   "language": "python",
   "name": "python3"
  },
  "language_info": {
   "codemirror_mode": {
    "name": "ipython",
    "version": 3
   },
   "file_extension": ".py",
   "mimetype": "text/x-python",
   "name": "python",
   "nbconvert_exporter": "python",
   "pygments_lexer": "ipython3",
   "version": "3.7.6"
  }
 },
 "nbformat": 4,
 "nbformat_minor": 4
}
