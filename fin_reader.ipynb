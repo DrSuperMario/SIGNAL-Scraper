{
 "cells": [
  {
   "cell_type": "code",
   "execution_count": 1,
   "metadata": {},
   "outputs": [],
   "source": [
    "import requests as req\n",
    "from datetime import datetime\n",
    "import pandas as pd\n",
    "\n",
    "from bs4 import BeautifulSoup as BS\n",
    "from connection.var import ConnectionVar_forex, ConnectionVar_crypto, agent_desktop, parser, URL"
   ]
  },
  {
   "cell_type": "code",
   "execution_count": 3,
   "metadata": {},
   "outputs": [],
   "source": [
    "crypto_columns = ['DATE','PRICE','PRICE_CAP', 'VOLUME_24','CIRCULATION', 'PERCENT_CHG']\n",
    "data_columns = ['NAME','PRICE','PRICE_CAP', 'VOLUME_24','CIRCULATION', 'PERCENT_CHG']\n",
    "tag_names = 'a'\n",
    "forex_columns = ['DATE','LAST','CHG%','CHG','BID','ASK','HIGH','LOW','RaTING']\n",
    "\n",
    "\n",
    "def get_html(url, header):\n",
    "    #get data from sources\n",
    "    #url for various sources\n",
    "    connect = req.get(url, header)\n",
    "    data = connect.content\n",
    "    return data\n",
    "\n",
    "def scrape_data_from_web(where, tag, id_name, url_id):\n",
    "\n",
    "    date_as = datetime.strftime(datetime.now(), '%m-%d-%Y, %H:%M')\n",
    "    scraped_data = []\n",
    "    \n",
    "    if where == 'crypto':\n",
    "        \n",
    "        conn = get_html(URL[url_id], header=agent_desktop)\n",
    "        soup = BS(conn, parser)\n",
    "        \n",
    "        for k,v in ConnectionVar_crypto.items():\n",
    "            scraped_data.append([x.get_text() for x in soup.find_all(tag, class_=v)])\n",
    "        \n",
    "        df = pd.DataFrame(index=scraped_data[0], columns=crypto_columns)\n",
    "\n",
    "        df['DATE'] = date_as\n",
    "        df['PRICE'] = scraped_data[1]\n",
    "        df['PRICE_CAP'] = scraped_data[2]\n",
    "        df['VOLUME_24'] = scraped_data[3]\n",
    "        df['CIRCULATION'] = scraped_data[4]\n",
    "        df['PERCENT_CHG'] = scraped_data[5]\n",
    "\n",
    "        #df.to_sql(sqlite_table, sqlite_conn, if_exists='append')\n",
    "        return df.head(10)\n",
    "    \n",
    "    elif where == 'forex':\n",
    "        \n",
    "        conn = get_html(URL[url_id], header=agent_desktop)\n",
    "        soup = BS(conn, parser)\n",
    "        \n",
    "        \n",
    "        scraped_data.append(([x.get_text() for x in soup.find_all('a',{'class':ConnectionVar_forex['a']})]))\n",
    "        scraped_data.append([x.get_text() for x in soup.find_all('td',{'class':ConnectionVar_forex['td']})])\n",
    "            \n",
    "        #df = pd.DataFrame(index=scraped_data[0], columns=forex_columns)\n",
    "        #df['DATE'] = date_as\n",
    "        #df['LAST'] = scraped_data[1]\n",
    "        #df['CHG%'] = scraped_data[2]\n",
    "        #df['CHG'] = scraped_data[3]\n",
    "        #df['BID'] = scraped_data[4]\n",
    "        #df['ASK'] = scraped_data[5]\n",
    "        #df['HIGH'] = scraped_data[6]\n",
    "        #df['LOW'] = scraped_data[7]\n",
    "        #df['RaTING'] = scraped_data[8]\n",
    "        print(len(scraped_data[0]))\n",
    "        print(len(scraped_data[1]))\n",
    "        print(scraped_data)\n",
    "        #df.to_sql(sqlite_table, sqlite_conn, if_exists='append')\n",
    "        #return df.head(10)\n"
   ]
  },
  {
   "cell_type": "code",
   "execution_count": 5,
   "metadata": {},
   "outputs": [
    {
     "data": {
      "text/html": [
       "<div>\n",
       "<style scoped>\n",
       "    .dataframe tbody tr th:only-of-type {\n",
       "        vertical-align: middle;\n",
       "    }\n",
       "\n",
       "    .dataframe tbody tr th {\n",
       "        vertical-align: top;\n",
       "    }\n",
       "\n",
       "    .dataframe thead th {\n",
       "        text-align: right;\n",
       "    }\n",
       "</style>\n",
       "<table border=\"1\" class=\"dataframe\">\n",
       "  <thead>\n",
       "    <tr style=\"text-align: right;\">\n",
       "      <th></th>\n",
       "      <th>DATE</th>\n",
       "      <th>PRICE</th>\n",
       "      <th>PRICE_CAP</th>\n",
       "      <th>VOLUME_24</th>\n",
       "      <th>CIRCULATION</th>\n",
       "      <th>PERCENT_CHG</th>\n",
       "    </tr>\n",
       "  </thead>\n",
       "  <tbody>\n",
       "  </tbody>\n",
       "</table>\n",
       "</div>"
      ],
      "text/plain": [
       "Empty DataFrame\n",
       "Columns: [DATE, PRICE, PRICE_CAP, VOLUME_24, CIRCULATION, PERCENT_CHG]\n",
       "Index: []"
      ]
     },
     "execution_count": 5,
     "metadata": {},
     "output_type": "execute_result"
    }
   ],
   "source": [
    "scrape_data_from_web(where='crypto', tag='td', url_id=0, id_name=forex_columns)"
   ]
  },
  {
   "cell_type": "code",
   "execution_count": null,
   "metadata": {},
   "outputs": [],
   "source": [
    "len(scraped_data[0])"
   ]
  },
  {
   "cell_type": "code",
   "execution_count": null,
   "metadata": {},
   "outputs": [],
   "source": [
    "#scraped_data = ([x.get_text() for x in soup.find_all('td',{'class':'tv-data-table__cell tv-screener-table__cell tv-screener-table__cell--big tv-screener-table__cell--with-marker tv-screener-table__cell--highlighted'})])\n",
    "scrape = soup.find_all('td',{'class':'tv-data-table__cell tv-screener-table__cell tv-screener-table__cell--big'})"
   ]
  },
  {
   "cell_type": "code",
   "execution_count": null,
   "metadata": {},
   "outputs": [],
   "source": [
    "for t in scrape:\n",
    "    print(t.get_text())"
   ]
  },
  {
   "cell_type": "code",
   "execution_count": null,
   "metadata": {},
   "outputs": [],
   "source": [
    "soup"
   ]
  }
 ],
 "metadata": {
  "kernelspec": {
   "display_name": "Python 3",
   "language": "python",
   "name": "python3"
  },
  "language_info": {
   "codemirror_mode": {
    "name": "ipython",
    "version": 3
   },
   "file_extension": ".py",
   "mimetype": "text/x-python",
   "name": "python",
   "nbconvert_exporter": "python",
   "pygments_lexer": "ipython3",
   "version": "3.7.6"
  }
 },
 "nbformat": 4,
 "nbformat_minor": 4
}
